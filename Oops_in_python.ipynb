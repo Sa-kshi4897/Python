{
  "nbformat": 4,
  "nbformat_minor": 0,
  "metadata": {
    "colab": {
      "name": "Oops in python.ipynb",
      "provenance": [],
      "authorship_tag": "ABX9TyNpnQ6u24GdDwroN9AP5JRl",
      "include_colab_link": true
    },
    "kernelspec": {
      "name": "python3",
      "display_name": "Python 3"
    },
    "language_info": {
      "name": "python"
    }
  },
  "cells": [
    {
      "cell_type": "markdown",
      "metadata": {
        "id": "view-in-github",
        "colab_type": "text"
      },
      "source": [
        "<a href=\"https://colab.research.google.com/github/Sa-kshi4897/Python/blob/main/Oops_in_python.ipynb\" target=\"_parent\"><img src=\"https://colab.research.google.com/assets/colab-badge.svg\" alt=\"Open In Colab\"/></a>"
      ]
    },
    {
      "cell_type": "markdown",
      "metadata": {
        "id": "OjBxBGX1QRGR"
      },
      "source": [
        "**Oops in Python**\n",
        "\n",
        "**Class** :- Class is a template/blue-print for real-world entities.\n",
        "         Class is a user defined data-type.\n",
        "\n",
        "         Example :- Phone\n",
        "\n",
        " *Attributes/Properties* :- Color, Cost, Battery-life\n",
        "\n",
        "  *Methods/Characteristics* :- Play Game, Make Call\n",
        "\n",
        "**Objects** :- Objects are specified instance of a class.\n",
        "\n",
        "         Example :- Apple, Motorola, Samsung\n",
        "\n",
        "         "
      ]
    },
    {
      "cell_type": "code",
      "metadata": {
        "id": "DAGLERM0TsIN"
      },
      "source": [
        "class Phone:                                                 #Creating the 'Phone' class\n",
        "  def make_call(self):\n",
        "    print(\"Making phone call\")\n",
        "  def play_game(self):\n",
        "    print(\"Playing games\")"
      ],
      "execution_count": 1,
      "outputs": []
    },
    {
      "cell_type": "code",
      "metadata": {
        "id": "48nnPzZhUTyT"
      },
      "source": [
        "p1=Phone()                                                   #Instantiating the 'p1' object"
      ],
      "execution_count": 2,
      "outputs": []
    },
    {
      "cell_type": "code",
      "metadata": {
        "colab": {
          "base_uri": "https://localhost:8080/"
        },
        "id": "m2E0-EOHUs1T",
        "outputId": "e715e16a-f669-4c23-dc49-8916470d8e16"
      },
      "source": [
        "p1.make_call()                                               #Invoking methods through object\n",
        "p1.play_game()                                             "
      ],
      "execution_count": 6,
      "outputs": [
        {
          "output_type": "stream",
          "text": [
            "Making phone call\n",
            "Playing games\n"
          ],
          "name": "stdout"
        }
      ]
    },
    {
      "cell_type": "markdown",
      "metadata": {
        "id": "TnCf7_DjVmCc"
      },
      "source": [
        "Adding Parameters to the class"
      ]
    },
    {
      "cell_type": "code",
      "metadata": {
        "id": "qBLKrH6fVvFL"
      },
      "source": [
        "class Phone:                                              #setting and returning the attribute values\n",
        "  def set_color(self,color):\n",
        "    self.color=color\n",
        "  def set_cost(self,cost):\n",
        "    self.cost=cost\n",
        "  def show_color(self):\n",
        "    return self.color\n",
        "  def show_cost(self):\n",
        "    return self.cost\n",
        "  def make_call(self):\n",
        "    print(\"Making phone call\")\n",
        "  def play_game(self):\n",
        "    print(\"Playing Game\")                      "
      ],
      "execution_count": 7,
      "outputs": []
    },
    {
      "cell_type": "code",
      "metadata": {
        "id": "lUr99dPDY_uY"
      },
      "source": [
        "p2=Phone()"
      ],
      "execution_count": 9,
      "outputs": []
    },
    {
      "cell_type": "code",
      "metadata": {
        "id": "idL2tkv2cFC1"
      },
      "source": [
        "p2.set_color(\"blue\")\n",
        "p2.set_cost(\"10000\")"
      ],
      "execution_count": 10,
      "outputs": []
    },
    {
      "cell_type": "code",
      "metadata": {
        "colab": {
          "base_uri": "https://localhost:8080/",
          "height": 35
        },
        "id": "zbeyjmIsdRGl",
        "outputId": "409ec294-aa1c-4df0-f591-894cdbd5e67c"
      },
      "source": [
        "p2.show_color()"
      ],
      "execution_count": 12,
      "outputs": [
        {
          "output_type": "execute_result",
          "data": {
            "application/vnd.google.colaboratory.intrinsic+json": {
              "type": "string"
            },
            "text/plain": [
              "'blue'"
            ]
          },
          "metadata": {
            "tags": []
          },
          "execution_count": 12
        }
      ]
    },
    {
      "cell_type": "code",
      "metadata": {
        "colab": {
          "base_uri": "https://localhost:8080/",
          "height": 35
        },
        "id": "zRYijqLqdlCA",
        "outputId": "0afea552-4731-4672-b0a3-9eabfd011e20"
      },
      "source": [
        "p2.show_cost()"
      ],
      "execution_count": 13,
      "outputs": [
        {
          "output_type": "execute_result",
          "data": {
            "application/vnd.google.colaboratory.intrinsic+json": {
              "type": "string"
            },
            "text/plain": [
              "'10000'"
            ]
          },
          "metadata": {
            "tags": []
          },
          "execution_count": 13
        }
      ]
    },
    {
      "cell_type": "code",
      "metadata": {
        "colab": {
          "base_uri": "https://localhost:8080/"
        },
        "id": "IyFGJq6mdpXm",
        "outputId": "ef99322b-a474-41c4-9334-83c52d74128c"
      },
      "source": [
        "p2.make_call()"
      ],
      "execution_count": 14,
      "outputs": [
        {
          "output_type": "stream",
          "text": [
            "Making phone call\n"
          ],
          "name": "stdout"
        }
      ]
    },
    {
      "cell_type": "code",
      "metadata": {
        "colab": {
          "base_uri": "https://localhost:8080/"
        },
        "id": "8k8iUSyXeYUq",
        "outputId": "e554231b-08a4-46fd-8aa6-2aac0f124651"
      },
      "source": [
        "p2.play_game()"
      ],
      "execution_count": 16,
      "outputs": [
        {
          "output_type": "stream",
          "text": [
            "Playing Game\n"
          ],
          "name": "stdout"
        }
      ]
    },
    {
      "cell_type": "code",
      "metadata": {
        "id": "KGxyEJSCh4lv"
      },
      "source": [
        "#creating a class with constructor\n",
        "\n",
        "class Employee:\n",
        "  def __init__(self,name,age,salary,gender):                      #init method act as the constructor\n",
        "    self.name = name\n",
        "    self.age = age\n",
        "    self.salary = salary\n",
        "    self.gender = gender\n",
        "\n",
        "  def employee_details(self):\n",
        "    print(\"Name of employee is \",self.name)\n",
        "    print(\"Age of employee is \",self.age)\n",
        "    print(\"Salary of the employee \",self.salary)\n",
        "    print(\"Gender of the Employee \",self.gender)"
      ],
      "execution_count": 41,
      "outputs": []
    },
    {
      "cell_type": "code",
      "metadata": {
        "id": "Vodmjp14nRDF"
      },
      "source": [
        "e1 = Employee(\"Manoj Kumar\", 49, 500000, 'Male')"
      ],
      "execution_count": 42,
      "outputs": []
    },
    {
      "cell_type": "code",
      "metadata": {
        "colab": {
          "base_uri": "https://localhost:8080/"
        },
        "id": "sAa5VmCIomcQ",
        "outputId": "00957e96-d4c7-4e1b-9153-e52017e4c46a"
      },
      "source": [
        "e1.employee_details()"
      ],
      "execution_count": 43,
      "outputs": [
        {
          "output_type": "stream",
          "text": [
            "Name of employee is  Manoj Kumar\n",
            "Age of employee is  49\n",
            "Salary of the employee  500000\n",
            "Gender of the Employee  Male\n"
          ],
          "name": "stdout"
        }
      ]
    },
    {
      "cell_type": "markdown",
      "metadata": {
        "id": "mEq9HS70qHCc"
      },
      "source": [
        "**Inheritance in Python**\n",
        "        \n",
        "With inheritance one class can drive the properties of another class.\n",
        "\n",
        "ex :- Man inheriting features from his father."
      ]
    },
    {
      "cell_type": "code",
      "metadata": {
        "id": "qKdknhowEWHo"
      },
      "source": [
        ""
      ],
      "execution_count": null,
      "outputs": []
    }
  ]
}