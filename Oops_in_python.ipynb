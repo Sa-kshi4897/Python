{
  "nbformat": 4,
  "nbformat_minor": 0,
  "metadata": {
    "colab": {
      "name": "Oops in python.ipynb",
      "provenance": [],
      "authorship_tag": "ABX9TyOg2PsvbFX6nRqO9m1HilIL",
      "include_colab_link": true
    },
    "kernelspec": {
      "name": "python3",
      "display_name": "Python 3"
    },
    "language_info": {
      "name": "python"
    }
  },
  "cells": [
    {
      "cell_type": "markdown",
      "metadata": {
        "id": "view-in-github",
        "colab_type": "text"
      },
      "source": [
        "<a href=\"https://colab.research.google.com/github/Sa-kshi4897/Python/blob/main/Oops_in_python.ipynb\" target=\"_parent\"><img src=\"https://colab.research.google.com/assets/colab-badge.svg\" alt=\"Open In Colab\"/></a>"
      ]
    },
    {
      "cell_type": "markdown",
      "metadata": {
        "id": "OjBxBGX1QRGR"
      },
      "source": [
        "**Oops in Python**\n",
        "\n",
        "**Class** :- Class is a template/blue-print for real-world entities.\n",
        "         Class is a user defined data-type.\n",
        "\n",
        "         Example :- Phone\n",
        "\n",
        " *Attributes/Properties* :- Color, Cost, Battery-life\n",
        "\n",
        "  *Methods/Characteristics* :- Play Game, Make Call\n",
        "\n",
        "**Objects** :- Objects are specified instance of a class.\n",
        "\n",
        "         Example :- Apple, Motorola, Samsung\n",
        "\n",
        "         "
      ]
    },
    {
      "cell_type": "code",
      "metadata": {
        "id": "DAGLERM0TsIN"
      },
      "source": [
        "class Phone:                                                 #Creating the 'Phone' class\n",
        "  def make_call(self):\n",
        "    print(\"Making phone call\")\n",
        "  def play_game(self):\n",
        "    print(\"Playing games\")"
      ],
      "execution_count": 41,
      "outputs": []
    },
    {
      "cell_type": "code",
      "metadata": {
        "id": "48nnPzZhUTyT"
      },
      "source": [
        "p1=Phone()                                                   #Instantiating the 'p1' object"
      ],
      "execution_count": 42,
      "outputs": []
    },
    {
      "cell_type": "code",
      "metadata": {
        "colab": {
          "base_uri": "https://localhost:8080/"
        },
        "id": "m2E0-EOHUs1T",
        "outputId": "103f482e-7ce7-4253-fe16-51da61ac7eba"
      },
      "source": [
        "p1.make_call()                                               #Invoking methods through object\n",
        "p1.play_game()                                             "
      ],
      "execution_count": 43,
      "outputs": [
        {
          "output_type": "stream",
          "text": [
            "Making phone call\n",
            "Playing games\n"
          ],
          "name": "stdout"
        }
      ]
    },
    {
      "cell_type": "markdown",
      "metadata": {
        "id": "TnCf7_DjVmCc"
      },
      "source": [
        "Adding Parameters to the class"
      ]
    },
    {
      "cell_type": "code",
      "metadata": {
        "id": "qBLKrH6fVvFL"
      },
      "source": [
        "class Phone:                                              #setting and returning the attribute values\n",
        "  def set_color(self,color):\n",
        "    self.color=color\n",
        "  def set_cost(self,cost):\n",
        "    self.cost=cost\n",
        "  def show_color(self):\n",
        "    return self.color\n",
        "  def show_cost(self):\n",
        "    return self.cost\n",
        "  def make_call(self):\n",
        "    print(\"Making phone call\")\n",
        "  def play_game(self):\n",
        "    print(\"Playing Game\")                      "
      ],
      "execution_count": 44,
      "outputs": []
    },
    {
      "cell_type": "code",
      "metadata": {
        "id": "lUr99dPDY_uY"
      },
      "source": [
        "p2=Phone()"
      ],
      "execution_count": 45,
      "outputs": []
    },
    {
      "cell_type": "code",
      "metadata": {
        "id": "idL2tkv2cFC1"
      },
      "source": [
        "p2.set_color(\"blue\")\n",
        "p2.set_cost(\"10000\")"
      ],
      "execution_count": 46,
      "outputs": []
    },
    {
      "cell_type": "code",
      "metadata": {
        "colab": {
          "base_uri": "https://localhost:8080/",
          "height": 35
        },
        "id": "zbeyjmIsdRGl",
        "outputId": "6fa08cdc-1d8c-4b14-8328-500bcb3154aa"
      },
      "source": [
        "p2.show_color()"
      ],
      "execution_count": 47,
      "outputs": [
        {
          "output_type": "execute_result",
          "data": {
            "application/vnd.google.colaboratory.intrinsic+json": {
              "type": "string"
            },
            "text/plain": [
              "'blue'"
            ]
          },
          "metadata": {
            "tags": []
          },
          "execution_count": 47
        }
      ]
    },
    {
      "cell_type": "code",
      "metadata": {
        "colab": {
          "base_uri": "https://localhost:8080/",
          "height": 35
        },
        "id": "zRYijqLqdlCA",
        "outputId": "0625fdae-06ea-41cc-ccd4-6ba80f1f8894"
      },
      "source": [
        "p2.show_cost()"
      ],
      "execution_count": 48,
      "outputs": [
        {
          "output_type": "execute_result",
          "data": {
            "application/vnd.google.colaboratory.intrinsic+json": {
              "type": "string"
            },
            "text/plain": [
              "'10000'"
            ]
          },
          "metadata": {
            "tags": []
          },
          "execution_count": 48
        }
      ]
    },
    {
      "cell_type": "code",
      "metadata": {
        "colab": {
          "base_uri": "https://localhost:8080/"
        },
        "id": "IyFGJq6mdpXm",
        "outputId": "d4939c20-6818-4790-a2fc-38f837669cd0"
      },
      "source": [
        "p2.make_call()"
      ],
      "execution_count": 49,
      "outputs": [
        {
          "output_type": "stream",
          "text": [
            "Making phone call\n"
          ],
          "name": "stdout"
        }
      ]
    },
    {
      "cell_type": "code",
      "metadata": {
        "colab": {
          "base_uri": "https://localhost:8080/"
        },
        "id": "8k8iUSyXeYUq",
        "outputId": "b1739604-e400-456c-8eb7-9521e5b57127"
      },
      "source": [
        "p2.play_game()"
      ],
      "execution_count": 50,
      "outputs": [
        {
          "output_type": "stream",
          "text": [
            "Playing Game\n"
          ],
          "name": "stdout"
        }
      ]
    },
    {
      "cell_type": "code",
      "metadata": {
        "id": "KGxyEJSCh4lv"
      },
      "source": [
        "#creating a class with constructor\n",
        "\n",
        "class Employee:\n",
        "  def __init__(self,name,age,salary,gender):                      #init method act as the constructor\n",
        "    self.name = name\n",
        "    self.age = age\n",
        "    self.salary = salary\n",
        "    self.gender = gender\n",
        "\n",
        "  def employee_details(self):\n",
        "    print(\"Name of employee is \",self.name)\n",
        "    print(\"Age of employee is \",self.age)\n",
        "    print(\"Salary of the employee \",self.salary)\n",
        "    print(\"Gender of the Employee \",self.gender)"
      ],
      "execution_count": 51,
      "outputs": []
    },
    {
      "cell_type": "code",
      "metadata": {
        "id": "Vodmjp14nRDF"
      },
      "source": [
        "e1 = Employee(\"Manoj Kumar\", 49, 500000, 'Male')"
      ],
      "execution_count": 52,
      "outputs": []
    },
    {
      "cell_type": "code",
      "metadata": {
        "colab": {
          "base_uri": "https://localhost:8080/"
        },
        "id": "sAa5VmCIomcQ",
        "outputId": "b414607a-166d-4296-af51-04c2e73f862d"
      },
      "source": [
        "e1.employee_details()"
      ],
      "execution_count": 53,
      "outputs": [
        {
          "output_type": "stream",
          "text": [
            "Name of employee is  Manoj Kumar\n",
            "Age of employee is  49\n",
            "Salary of the employee  500000\n",
            "Gender of the Employee  Male\n"
          ],
          "name": "stdout"
        }
      ]
    },
    {
      "cell_type": "markdown",
      "metadata": {
        "id": "mEq9HS70qHCc"
      },
      "source": [
        "**Inheritance in Python**\n",
        "        \n",
        "With inheritance one class can drive the properties of another class.\n",
        "\n",
        "ex :- Man inheriting features from his father.\n",
        "\n",
        "***Types of Inheritance***\n",
        "\n",
        "**Single Inheritance**  :-  Where child class inherit properties from only one parent class.\n",
        "\n",
        "**Mutiple Inheritance**  :-  Where child class inherit properties from more than one parent class.\n",
        "\n",
        "**Multi-level Inheritance**  :-  Where we have parent, child, and grandchild relationship.\n",
        "\n",
        "**Hybrid Inheritance**  :-  It is a combination of multiple inheritance and multi-level inheritance. The class is derived from the two classes as in the multiple inheritance. However, one of the parent classes is not the base class. It is a derived class."
      ]
    },
    {
      "cell_type": "code",
      "metadata": {
        "id": "ccVfDlsKk31X"
      },
      "source": [
        "#single inheritance\n",
        "class Vehicle:                                         #creating base class\n",
        "  def __init__(self,mileage,cost):\n",
        "    self.mileage = mileage\n",
        "    self.cost = cost\n",
        "  def show_vehicle_details(self):\n",
        "    print(\"I am a Vehicle\")\n",
        "    print(\"Mileage of Vehicle is \",self.mileage)\n",
        "    print(\"Cost of Vehicle is \",self.cost)"
      ],
      "execution_count": 54,
      "outputs": []
    },
    {
      "cell_type": "code",
      "metadata": {
        "id": "2zCQSu9EnHi7",
        "outputId": "2d3f3898-df25-471d-e1d9-c1a575d26de2",
        "colab": {
          "base_uri": "https://localhost:8080/"
        }
      },
      "source": [
        "v1=Vehicle(300,500)                                      #Instantiating the object for base class\n",
        "v1.show_vehicle_details()"
      ],
      "execution_count": 55,
      "outputs": [
        {
          "output_type": "stream",
          "text": [
            "I am a Vehicle\n",
            "Mileage of Vehicle is  300\n",
            "Cost of Vehicle is  500\n"
          ],
          "name": "stdout"
        }
      ]
    },
    {
      "cell_type": "code",
      "metadata": {
        "id": "afjJRr3jnadL"
      },
      "source": [
        "class Car(Vehicle):                                      #creating child class\n",
        "  def show_car_details(self):\n",
        "    print(\"I am a Car\")"
      ],
      "execution_count": 56,
      "outputs": []
    },
    {
      "cell_type": "code",
      "metadata": {
        "id": "4TGYFiYDnvTH",
        "outputId": "0083388c-6212-499c-9f83-f26b46e9737c",
        "colab": {
          "base_uri": "https://localhost:8080/"
        }
      },
      "source": [
        "c1 = Car(400,300)                                       #Instantiating the object for child class\n",
        "c1.show_vehicle_details()"
      ],
      "execution_count": 57,
      "outputs": [
        {
          "output_type": "stream",
          "text": [
            "I am a Vehicle\n",
            "Mileage of Vehicle is  400\n",
            "Cost of Vehicle is  300\n"
          ],
          "name": "stdout"
        }
      ]
    },
    {
      "cell_type": "code",
      "metadata": {
        "id": "oEcRaklFoiFF",
        "outputId": "8c0d10d3-92ad-4716-fe96-d847a6d76aea",
        "colab": {
          "base_uri": "https://localhost:8080/"
        }
      },
      "source": [
        "c1.show_car_details()                                   #Invoking the child class method"
      ],
      "execution_count": 58,
      "outputs": [
        {
          "output_type": "stream",
          "text": [
            "I am a Car\n"
          ],
          "name": "stdout"
        }
      ]
    },
    {
      "cell_type": "code",
      "metadata": {
        "id": "6aRA2gNs0SBx"
      },
      "source": [
        "class Car(Vehicle):\n",
        "  def __init__(self,mileage,cost,tyres,hp):\n",
        "    super().__init__(mileage,cost)\n",
        "    self.tyres=tyres\n",
        "    self.hp=hp\n",
        "  def show_car_details(self):\n",
        "    print('I am a car')\n",
        "    print('Number of tyres ',self.tyres)\n",
        "    print('The horse power is ',self.hp)"
      ],
      "execution_count": 59,
      "outputs": []
    },
    {
      "cell_type": "code",
      "metadata": {
        "id": "LGsvTPIw0g6A",
        "outputId": "b8bb74d8-1301-4794-b6af-e129273efbb8",
        "colab": {
          "base_uri": "https://localhost:8080/"
        }
      },
      "source": [
        "c1 = Car(30,1200,4,500)\n",
        "c1.show_vehicle_details()"
      ],
      "execution_count": 60,
      "outputs": [
        {
          "output_type": "stream",
          "text": [
            "I am a Vehicle\n",
            "Mileage of Vehicle is  30\n",
            "Cost of Vehicle is  1200\n"
          ],
          "name": "stdout"
        }
      ]
    },
    {
      "cell_type": "code",
      "metadata": {
        "id": "hrSOVnMQ2s-F",
        "outputId": "76f8708b-54a4-4f21-a281-834b55fd0acf",
        "colab": {
          "base_uri": "https://localhost:8080/"
        }
      },
      "source": [
        "c1.show_car_details()"
      ],
      "execution_count": 61,
      "outputs": [
        {
          "output_type": "stream",
          "text": [
            "I am a car\n",
            "Number of tyres  4\n",
            "The horse power is  500\n"
          ],
          "name": "stdout"
        }
      ]
    },
    {
      "cell_type": "code",
      "metadata": {
        "id": "vcIifNIk249N"
      },
      "source": [
        "#Multiple Inheritance in Python\n",
        "class Parent1():                            #parent class one\n",
        "  def assign_str1(self,str1):\n",
        "    self.str1=str1\n",
        "  def show_str1(self):\n",
        "    return self.str1\n",
        "\n",
        "class Parent2():                            #parent class two\n",
        "  def assign_str2(self,str2):\n",
        "    self.str2=str2\n",
        "  def show_str2(self):\n",
        "    return self.str2\n",
        "\n",
        "class Child(Parent1,Parent2):               #child class \n",
        "  def assign_str3(self,str3):\n",
        "    self.str3=str3\n",
        "  def show_str3(self):\n",
        "    return self.str3"
      ],
      "execution_count": 62,
      "outputs": []
    },
    {
      "cell_type": "code",
      "metadata": {
        "id": "ykvoZa9B4j61"
      },
      "source": [
        "c1 = Child()\n",
        "c1.assign_str1(\"One\")\n",
        "c1.assign_str2(\"two\")\n",
        "c1.assign_str3(\"Three\")"
      ],
      "execution_count": 63,
      "outputs": []
    },
    {
      "cell_type": "code",
      "metadata": {
        "id": "dtA0xdg15gSL",
        "outputId": "e507390d-660b-4de2-eecf-7f9781cfef37",
        "colab": {
          "base_uri": "https://localhost:8080/",
          "height": 35
        }
      },
      "source": [
        "c1.show_str1()"
      ],
      "execution_count": 64,
      "outputs": [
        {
          "output_type": "execute_result",
          "data": {
            "application/vnd.google.colaboratory.intrinsic+json": {
              "type": "string"
            },
            "text/plain": [
              "'One'"
            ]
          },
          "metadata": {
            "tags": []
          },
          "execution_count": 64
        }
      ]
    },
    {
      "cell_type": "code",
      "metadata": {
        "id": "NqX_1x9Q5mWs",
        "outputId": "4c89086e-6a03-4c29-d714-89dd5fdbdb9c",
        "colab": {
          "base_uri": "https://localhost:8080/",
          "height": 35
        }
      },
      "source": [
        "c1.show_str2()"
      ],
      "execution_count": 65,
      "outputs": [
        {
          "output_type": "execute_result",
          "data": {
            "application/vnd.google.colaboratory.intrinsic+json": {
              "type": "string"
            },
            "text/plain": [
              "'two'"
            ]
          },
          "metadata": {
            "tags": []
          },
          "execution_count": 65
        }
      ]
    },
    {
      "cell_type": "code",
      "metadata": {
        "id": "1BBkL2tB5q7R",
        "outputId": "3c771770-1281-4c8f-ad23-37ed769663f1",
        "colab": {
          "base_uri": "https://localhost:8080/",
          "height": 35
        }
      },
      "source": [
        "c1.show_str3()"
      ],
      "execution_count": 66,
      "outputs": [
        {
          "output_type": "execute_result",
          "data": {
            "application/vnd.google.colaboratory.intrinsic+json": {
              "type": "string"
            },
            "text/plain": [
              "'Three'"
            ]
          },
          "metadata": {
            "tags": []
          },
          "execution_count": 66
        }
      ]
    },
    {
      "cell_type": "code",
      "metadata": {
        "id": "_y07ASRS5vWe"
      },
      "source": [
        ""
      ],
      "execution_count": null,
      "outputs": []
    }
  ]
}