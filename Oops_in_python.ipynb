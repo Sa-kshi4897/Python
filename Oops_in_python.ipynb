{
  "nbformat": 4,
  "nbformat_minor": 0,
  "metadata": {
    "colab": {
      "name": "Oops in python.ipynb",
      "provenance": [],
      "authorship_tag": "ABX9TyM+0ak9K7F1lMAlPac8GVBN",
      "include_colab_link": true
    },
    "kernelspec": {
      "name": "python3",
      "display_name": "Python 3"
    },
    "language_info": {
      "name": "python"
    }
  },
  "cells": [
    {
      "cell_type": "markdown",
      "metadata": {
        "id": "view-in-github",
        "colab_type": "text"
      },
      "source": [
        "<a href=\"https://colab.research.google.com/github/Sa-kshi4897/Python/blob/main/Oops_in_python.ipynb\" target=\"_parent\"><img src=\"https://colab.research.google.com/assets/colab-badge.svg\" alt=\"Open In Colab\"/></a>"
      ]
    },
    {
      "cell_type": "markdown",
      "metadata": {
        "id": "OjBxBGX1QRGR"
      },
      "source": [
        "**Oops in Python**\n",
        "\n",
        "**Class** :- Class is a template/blue-print for real-world entities.\n",
        "         Class is a user defined data-type.\n",
        "\n",
        "         Example :- Phone\n",
        "\n",
        " *Attributes/Properties* :- Color, Cost, Battery-life\n",
        "\n",
        "  *Methods/Characteristics* :- Play Game, Make Call\n",
        "\n",
        "**Objects** :- Objects are specified instance of a class.\n",
        "\n",
        "         Example :- Apple, Motorola, Samsung\n",
        "\n",
        "         "
      ]
    },
    {
      "cell_type": "code",
      "metadata": {
        "id": "DAGLERM0TsIN"
      },
      "source": [
        "class Phone:                                                 #Creating the 'Phone' class\n",
        "  def make_call(self):\n",
        "    print(\"Making phone call\")\n",
        "  def play_game(self):\n",
        "    print(\"Playing games\")"
      ],
      "execution_count": 30,
      "outputs": []
    },
    {
      "cell_type": "code",
      "metadata": {
        "id": "48nnPzZhUTyT"
      },
      "source": [
        "p1=Phone()                                                   #Instantiating the 'p1' object"
      ],
      "execution_count": 31,
      "outputs": []
    },
    {
      "cell_type": "code",
      "metadata": {
        "colab": {
          "base_uri": "https://localhost:8080/"
        },
        "id": "m2E0-EOHUs1T",
        "outputId": "d4059109-ed07-4443-abef-7c5da19fb7f9"
      },
      "source": [
        "p1.make_call()                                               #Invoking methods through object\n",
        "p1.play_game()                                             "
      ],
      "execution_count": 32,
      "outputs": [
        {
          "output_type": "stream",
          "text": [
            "Making phone call\n",
            "Playing games\n"
          ],
          "name": "stdout"
        }
      ]
    },
    {
      "cell_type": "markdown",
      "metadata": {
        "id": "TnCf7_DjVmCc"
      },
      "source": [
        "Adding Parameters to the class"
      ]
    },
    {
      "cell_type": "code",
      "metadata": {
        "id": "qBLKrH6fVvFL"
      },
      "source": [
        "class Phone:                                              #setting and returning the attribute values\n",
        "  def set_color(self,color):\n",
        "    self.color=color\n",
        "  def set_cost(self,cost):\n",
        "    self.cost=cost\n",
        "  def show_color(self):\n",
        "    return self.color\n",
        "  def show_cost(self):\n",
        "    return self.cost\n",
        "  def make_call(self):\n",
        "    print(\"Making phone call\")\n",
        "  def play_game(self):\n",
        "    print(\"Playing Game\")                      "
      ],
      "execution_count": 33,
      "outputs": []
    },
    {
      "cell_type": "code",
      "metadata": {
        "id": "lUr99dPDY_uY"
      },
      "source": [
        "p2=Phone()"
      ],
      "execution_count": 34,
      "outputs": []
    },
    {
      "cell_type": "code",
      "metadata": {
        "id": "idL2tkv2cFC1"
      },
      "source": [
        "p2.set_color(\"blue\")\n",
        "p2.set_cost(\"10000\")"
      ],
      "execution_count": 35,
      "outputs": []
    },
    {
      "cell_type": "code",
      "metadata": {
        "colab": {
          "base_uri": "https://localhost:8080/",
          "height": 35
        },
        "id": "zbeyjmIsdRGl",
        "outputId": "a2fbe85f-7f14-4a68-8bd3-429ddfe38591"
      },
      "source": [
        "p2.show_color()"
      ],
      "execution_count": 36,
      "outputs": [
        {
          "output_type": "execute_result",
          "data": {
            "application/vnd.google.colaboratory.intrinsic+json": {
              "type": "string"
            },
            "text/plain": [
              "'blue'"
            ]
          },
          "metadata": {
            "tags": []
          },
          "execution_count": 36
        }
      ]
    },
    {
      "cell_type": "code",
      "metadata": {
        "colab": {
          "base_uri": "https://localhost:8080/",
          "height": 35
        },
        "id": "zRYijqLqdlCA",
        "outputId": "55a0258a-d569-4ee3-9b5b-13f6433b9da8"
      },
      "source": [
        "p2.show_cost()"
      ],
      "execution_count": 37,
      "outputs": [
        {
          "output_type": "execute_result",
          "data": {
            "application/vnd.google.colaboratory.intrinsic+json": {
              "type": "string"
            },
            "text/plain": [
              "'10000'"
            ]
          },
          "metadata": {
            "tags": []
          },
          "execution_count": 37
        }
      ]
    },
    {
      "cell_type": "code",
      "metadata": {
        "colab": {
          "base_uri": "https://localhost:8080/"
        },
        "id": "IyFGJq6mdpXm",
        "outputId": "c26893a0-7812-4060-edf9-d6fe0d607662"
      },
      "source": [
        "p2.make_call()"
      ],
      "execution_count": 38,
      "outputs": [
        {
          "output_type": "stream",
          "text": [
            "Making phone call\n"
          ],
          "name": "stdout"
        }
      ]
    },
    {
      "cell_type": "code",
      "metadata": {
        "colab": {
          "base_uri": "https://localhost:8080/"
        },
        "id": "8k8iUSyXeYUq",
        "outputId": "864e2a11-9f47-4ea3-efcb-38a4b06c9fe7"
      },
      "source": [
        "p2.play_game()"
      ],
      "execution_count": 39,
      "outputs": [
        {
          "output_type": "stream",
          "text": [
            "Playing Game\n"
          ],
          "name": "stdout"
        }
      ]
    },
    {
      "cell_type": "code",
      "metadata": {
        "id": "KGxyEJSCh4lv"
      },
      "source": [
        "#creating a class with constructor\n",
        "\n",
        "class Employee:\n",
        "  def __init__(self,name,age,salary,gender):                      #init method act as the constructor\n",
        "    self.name = name\n",
        "    self.age = age\n",
        "    self.salary = salary\n",
        "    self.gender = gender\n",
        "\n",
        "  def employee_details(self):\n",
        "    print(\"Name of employee is \",self.name)\n",
        "    print(\"Age of employee is \",self.age)\n",
        "    print(\"Salary of the employee \",self.salary)\n",
        "    print(\"Gender of the Employee \",self.gender)"
      ],
      "execution_count": 40,
      "outputs": []
    },
    {
      "cell_type": "code",
      "metadata": {
        "id": "Vodmjp14nRDF"
      },
      "source": [
        "e1 = Employee(\"Manoj Kumar\", 49, 500000, 'Male')"
      ],
      "execution_count": 41,
      "outputs": []
    },
    {
      "cell_type": "code",
      "metadata": {
        "colab": {
          "base_uri": "https://localhost:8080/"
        },
        "id": "sAa5VmCIomcQ",
        "outputId": "99c55299-7342-4073-d990-ffac285b5d54"
      },
      "source": [
        "e1.employee_details()"
      ],
      "execution_count": 42,
      "outputs": [
        {
          "output_type": "stream",
          "text": [
            "Name of employee is  Manoj Kumar\n",
            "Age of employee is  49\n",
            "Salary of the employee  500000\n",
            "Gender of the Employee  Male\n"
          ],
          "name": "stdout"
        }
      ]
    },
    {
      "cell_type": "markdown",
      "metadata": {
        "id": "mEq9HS70qHCc"
      },
      "source": [
        "**Inheritance in Python**\n",
        "        \n",
        "With inheritance one class can drive the properties of another class.\n",
        "\n",
        "ex :- Man inheriting features from his father.\n",
        "\n",
        "***Types of Inheritance***\n",
        "\n",
        "**Single Inheritance**  :-  Where child class inherit properties from only one parent class.\n",
        "\n",
        "**Mutiple Inheritance**  :-  Where child class inherit properties from more than one parent class.\n",
        "\n",
        "**Multi-level Inheritance**  :-  Where we have parent, child, and grandchild relationship.\n",
        "\n",
        "**Hybrid Inheritance**  :-  It is a combination of multiple inheritance and multi-level inheritance. The class is derived from the two classes as in the multiple inheritance. However, one of the parent classes is not the base class. It is a derived class."
      ]
    },
    {
      "cell_type": "code",
      "metadata": {
        "id": "ccVfDlsKk31X"
      },
      "source": [
        "#single inheritance\n",
        "class Vehicle:                                         #creating base class\n",
        "  def __init__(self,mileage,cost):\n",
        "    self.mileage = mileage\n",
        "    self.cost = cost\n",
        "  def show_vehicle_details(self):\n",
        "    print(\"I am a Vehicle\")\n",
        "    print(\"Mileage of Vehicle is \",self.mileage)\n",
        "    print(\"Cost of Vehicle is \",self.cost)"
      ],
      "execution_count": 43,
      "outputs": []
    },
    {
      "cell_type": "code",
      "metadata": {
        "colab": {
          "base_uri": "https://localhost:8080/"
        },
        "id": "2zCQSu9EnHi7",
        "outputId": "898965c0-f633-43e3-b531-edd4fc7b8837"
      },
      "source": [
        "v1=Vehicle(300,500)                                      #Instantiating the object for base class\n",
        "v1.show_vehicle_details()"
      ],
      "execution_count": 44,
      "outputs": [
        {
          "output_type": "stream",
          "text": [
            "I am a Vehicle\n",
            "Mileage of Vehicle is  300\n",
            "Cost of Vehicle is  500\n"
          ],
          "name": "stdout"
        }
      ]
    },
    {
      "cell_type": "code",
      "metadata": {
        "id": "afjJRr3jnadL"
      },
      "source": [
        "class Car(Vehicle):                                      #creating child class\n",
        "  def show_car_details(self):\n",
        "    print(\"I am a Car\")"
      ],
      "execution_count": 45,
      "outputs": []
    },
    {
      "cell_type": "code",
      "metadata": {
        "colab": {
          "base_uri": "https://localhost:8080/"
        },
        "id": "4TGYFiYDnvTH",
        "outputId": "8b08a4ed-6ef8-4a1c-b07a-3806eb55a516"
      },
      "source": [
        "c1 = Car(400,300)                                       #Instantiating the object for child class\n",
        "c1.show_vehicle_details()"
      ],
      "execution_count": 46,
      "outputs": [
        {
          "output_type": "stream",
          "text": [
            "I am a Vehicle\n",
            "Mileage of Vehicle is  400\n",
            "Cost of Vehicle is  300\n"
          ],
          "name": "stdout"
        }
      ]
    },
    {
      "cell_type": "code",
      "metadata": {
        "colab": {
          "base_uri": "https://localhost:8080/"
        },
        "id": "oEcRaklFoiFF",
        "outputId": "038053cb-30d2-42f7-8b72-c725c36a3c5c"
      },
      "source": [
        "c1.show_car_details()                                   #Invoking the child class method"
      ],
      "execution_count": 47,
      "outputs": [
        {
          "output_type": "stream",
          "text": [
            "I am a Car\n"
          ],
          "name": "stdout"
        }
      ]
    },
    {
      "cell_type": "code",
      "metadata": {
        "id": "6aRA2gNs0SBx"
      },
      "source": [
        "class Car(Vehicle):\n",
        "  def __init__(self,mileage,cost,tyres,hp):\n",
        "    super().__init__(mileage,cost)\n",
        "    self.tyres=tyres\n",
        "    self.hp=hp\n",
        "  def show_car_details(self):\n",
        "    print('I am a car')\n",
        "    print('Number of tyres ',self.tyres)\n",
        "    print('The horse power is ',self.hp)"
      ],
      "execution_count": 48,
      "outputs": []
    },
    {
      "cell_type": "code",
      "metadata": {
        "colab": {
          "base_uri": "https://localhost:8080/"
        },
        "id": "LGsvTPIw0g6A",
        "outputId": "39f1d90d-b32c-43f2-f40a-cff7ed15e66d"
      },
      "source": [
        "c1 = Car(30,1200,4,500)\n",
        "c1.show_vehicle_details()"
      ],
      "execution_count": 49,
      "outputs": [
        {
          "output_type": "stream",
          "text": [
            "I am a Vehicle\n",
            "Mileage of Vehicle is  30\n",
            "Cost of Vehicle is  1200\n"
          ],
          "name": "stdout"
        }
      ]
    },
    {
      "cell_type": "code",
      "metadata": {
        "colab": {
          "base_uri": "https://localhost:8080/"
        },
        "id": "hrSOVnMQ2s-F",
        "outputId": "3b7fc02c-aa14-4514-d998-afaadb39779c"
      },
      "source": [
        "c1.show_car_details()"
      ],
      "execution_count": 50,
      "outputs": [
        {
          "output_type": "stream",
          "text": [
            "I am a car\n",
            "Number of tyres  4\n",
            "The horse power is  500\n"
          ],
          "name": "stdout"
        }
      ]
    },
    {
      "cell_type": "code",
      "metadata": {
        "id": "vcIifNIk249N"
      },
      "source": [
        "#Multiple Inheritance in Python\n",
        "class Parent1():                            #parent class one\n",
        "  def assign_str1(self,str1):\n",
        "    self.str1=str1\n",
        "  def show_str1(self):\n",
        "    return self.str1\n",
        "\n",
        "class Parent2():                            #parent class two\n",
        "  def assign_str2(self,str2):\n",
        "    self.str2=str2\n",
        "  def show_str2(self):\n",
        "    return self.str2\n",
        "\n",
        "class Child(Parent1,Parent2):               #child class \n",
        "  def assign_str3(self,str3):\n",
        "    self.str3=str3\n",
        "  def show_str3(self):\n",
        "    return self.str3"
      ],
      "execution_count": 51,
      "outputs": []
    },
    {
      "cell_type": "code",
      "metadata": {
        "id": "ykvoZa9B4j61"
      },
      "source": [
        "c1 = Child()\n",
        "c1.assign_str1(\"One\")\n",
        "c1.assign_str2(\"two\")\n",
        "c1.assign_str3(\"Three\")"
      ],
      "execution_count": 52,
      "outputs": []
    },
    {
      "cell_type": "code",
      "metadata": {
        "colab": {
          "base_uri": "https://localhost:8080/",
          "height": 35
        },
        "id": "dtA0xdg15gSL",
        "outputId": "b6b35a72-fece-4bf4-c004-2627785aa4d2"
      },
      "source": [
        "c1.show_str1()"
      ],
      "execution_count": 53,
      "outputs": [
        {
          "output_type": "execute_result",
          "data": {
            "application/vnd.google.colaboratory.intrinsic+json": {
              "type": "string"
            },
            "text/plain": [
              "'One'"
            ]
          },
          "metadata": {
            "tags": []
          },
          "execution_count": 53
        }
      ]
    },
    {
      "cell_type": "code",
      "metadata": {
        "colab": {
          "base_uri": "https://localhost:8080/",
          "height": 35
        },
        "id": "NqX_1x9Q5mWs",
        "outputId": "104042c7-c980-45ee-a608-3b6917e446ea"
      },
      "source": [
        "c1.show_str2()"
      ],
      "execution_count": 54,
      "outputs": [
        {
          "output_type": "execute_result",
          "data": {
            "application/vnd.google.colaboratory.intrinsic+json": {
              "type": "string"
            },
            "text/plain": [
              "'two'"
            ]
          },
          "metadata": {
            "tags": []
          },
          "execution_count": 54
        }
      ]
    },
    {
      "cell_type": "code",
      "metadata": {
        "colab": {
          "base_uri": "https://localhost:8080/",
          "height": 35
        },
        "id": "1BBkL2tB5q7R",
        "outputId": "b01d32fc-4c05-4288-ab6e-ceeaedad07a3"
      },
      "source": [
        "c1.show_str3()"
      ],
      "execution_count": 55,
      "outputs": [
        {
          "output_type": "execute_result",
          "data": {
            "application/vnd.google.colaboratory.intrinsic+json": {
              "type": "string"
            },
            "text/plain": [
              "'Three'"
            ]
          },
          "metadata": {
            "tags": []
          },
          "execution_count": 55
        }
      ]
    },
    {
      "cell_type": "code",
      "metadata": {
        "id": "_y07ASRS5vWe"
      },
      "source": [
        "#Multi-Level inheritance\n",
        "class Parent():                         #Parent class\n",
        "  def assign_name(self,name):\n",
        "    self.name=name\n",
        "  def show_name(self):\n",
        "    return self.name\n",
        "\n",
        "class Child(Parent):                    #Child class\n",
        "  def assign_age(self,age):\n",
        "    self.age=age\n",
        "  def show_age(self):\n",
        "    return self.age\n",
        "\n",
        "class GrandChild(Child):                    #Grandchild class\n",
        "  def assign_gender(self,gender):\n",
        "    self.gender=gender\n",
        "  def show_gender(self):\n",
        "    return self.gender"
      ],
      "execution_count": 56,
      "outputs": []
    },
    {
      "cell_type": "code",
      "metadata": {
        "id": "hgh9pRHmX5GK"
      },
      "source": [
        "g1 = GrandChild()\n",
        "g1.assign_name('Sakshi')\n",
        "g1.assign_age(19)\n",
        "g1.assign_gender('Female')"
      ],
      "execution_count": 57,
      "outputs": []
    },
    {
      "cell_type": "code",
      "metadata": {
        "id": "snzbE1N_Y_Ho",
        "outputId": "992ec4b6-3c64-490a-a79e-79b751c0fa21",
        "colab": {
          "base_uri": "https://localhost:8080/",
          "height": 35
        }
      },
      "source": [
        "g1.show_name()"
      ],
      "execution_count": 58,
      "outputs": [
        {
          "output_type": "execute_result",
          "data": {
            "application/vnd.google.colaboratory.intrinsic+json": {
              "type": "string"
            },
            "text/plain": [
              "'Sakshi'"
            ]
          },
          "metadata": {
            "tags": []
          },
          "execution_count": 58
        }
      ]
    },
    {
      "cell_type": "code",
      "metadata": {
        "id": "Uupa1cdjZDiZ",
        "outputId": "bdda633b-85d2-482a-9a02-b5f36863fed0",
        "colab": {
          "base_uri": "https://localhost:8080/"
        }
      },
      "source": [
        "g1.show_age()"
      ],
      "execution_count": 59,
      "outputs": [
        {
          "output_type": "execute_result",
          "data": {
            "text/plain": [
              "19"
            ]
          },
          "metadata": {
            "tags": []
          },
          "execution_count": 59
        }
      ]
    },
    {
      "cell_type": "code",
      "metadata": {
        "id": "WXd2JULLZIk8",
        "outputId": "fac8ace7-addc-47ac-be75-ef455833ba1c",
        "colab": {
          "base_uri": "https://localhost:8080/",
          "height": 35
        }
      },
      "source": [
        "g1.show_gender()"
      ],
      "execution_count": 60,
      "outputs": [
        {
          "output_type": "execute_result",
          "data": {
            "application/vnd.google.colaboratory.intrinsic+json": {
              "type": "string"
            },
            "text/plain": [
              "'Female'"
            ]
          },
          "metadata": {
            "tags": []
          },
          "execution_count": 60
        }
      ]
    }
  ]
}